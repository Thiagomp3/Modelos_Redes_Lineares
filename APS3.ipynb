{
 "cells": [
  {
   "cell_type": "markdown",
   "metadata": {},
   "source": [
    "# APS 3 - Modelos de Redes Lineares"
   ]
  },
  {
   "cell_type": "markdown",
   "metadata": {},
   "source": [
    "## Matheus Amaral Ricardo\n",
    "\n",
    "## Thiago Maitan Pegorer"
   ]
  },
  {
   "cell_type": "markdown",
   "metadata": {},
   "source": [
    "# Exercicio 1"
   ]
  },
  {
   "cell_type": "code",
   "execution_count": 1,
   "metadata": {},
   "outputs": [
    {
     "name": "stdout",
     "output_type": "stream",
     "text": [
      ",N0-S,N1,N2,N3,N4-T\n",
      "N0-S,,   4,   4,,\n",
      "N1,   4,,,   2,\n",
      "N2,   4,,,   2,   3\n",
      "N3,,   2,   2,,   6\n",
      "N4-T,,,   3,   6,\n"
     ]
    }
   ],
   "source": [
    "%run test_ex1.py data"
   ]
  },
  {
   "cell_type": "code",
   "execution_count": 2,
   "metadata": {},
   "outputs": [
    {
     "name": "stdout",
     "output_type": "stream",
     "text": [
      "6-0,N0-S,N1,N2,N3,N4-T\n",
      "N0-S,,2.0000,4.0000,,\n",
      "N1,,,,2.0000,\n",
      "N2,,,,2.0000,3.0000\n",
      "N3,,,,,6.0000\n",
      "N4-T,,,1.0000,2.0000,\n",
      "0 6.0 0.0 [[0.0, 2.0, 4.0, 0.0, 0.0], [0.0, 0.0, 0.0, 2.0, 0.0], [0.0, 0.0, 0.0, 2.0, 3.0], [0.0, 0.0, 0.0, 0.0, 6.0], [0.0, 0.0, 1.0, 2.0, 0.0]]\n"
     ]
    }
   ],
   "source": [
    "%run test_ex1.py run"
   ]
  },
  {
   "cell_type": "markdown",
   "metadata": {},
   "source": [
    "# Exercicio 2"
   ]
  },
  {
   "cell_type": "code",
   "execution_count": 3,
   "metadata": {},
   "outputs": [
    {
     "name": "stdout",
     "output_type": "stream",
     "text": [
      "From/To,City 0,City 1,City 2,City 3,City 4,City 5,City 6,Supply\n",
      "Plant 0,  23,,  19,  25,  14,,  22, 551\n",
      "Plant 1,  16,,,  20,  23,  13,  23, 689\n",
      "Plant 2,  22,  28,  11,,  20,  13,  24, 634\n",
      "Demand, 288, 234, 236, 231, 247, 262, 281,\n"
     ]
    }
   ],
   "source": [
    "%run test_ex2.py data"
   ]
  },
  {
   "cell_type": "code",
   "execution_count": 4,
   "metadata": {},
   "outputs": [
    {
     "name": "stdout",
     "output_type": "stream",
     "text": [
      "0 34395.0\n",
      "From/To,City 0,City 1,City 2,City 3,City 4,City 5,City 6,Total\n",
      "Plant 0,  78,, 136,  41, 150,, 110, 515\n",
      "Plant 1, 150,,, 190,, 140, 150, 630\n",
      "Plant 2,  59, 234, 100,,  97, 122,  20, 632\n",
      "Total, 287, 234, 236, 231, 247, 262, 280\n",
      "78.0000,,136.0000,41.0000,150.0000,,110.0000\n",
      "150.0000,,,190.0000,,140.0000,150.0000\n",
      "60.0000,234.0000,100.0000,,97.0000,122.0000,21.0000\n"
     ]
    }
   ],
   "source": [
    "%run test_ex2.py run0"
   ]
  },
  {
   "cell_type": "code",
   "execution_count": 5,
   "metadata": {},
   "outputs": [
    {
     "name": "stdout",
     "output_type": "stream",
     "text": [
      "0 34109.0\n",
      "From/To,City 0,City 1,City 2,City 3,City 4,City 5,City 6,Total\n",
      "Plant 0,  60,,  94,  92, 148,, 155, 549\n",
      "Plant 1, 172,,, 138,, 157, 125, 592\n",
      "Plant 2,  54, 234, 141,,  98, 104,, 631\n",
      "Total, 286, 234, 235, 230, 246, 261, 280\n",
      "60.4000,,94.4000,92.4000,148.2000,,155.6000\n",
      "172.8000,,,138.6000,,157.2000,125.4000\n",
      "54.8000,234.0000,141.6000,,98.8000,104.8000,\n"
     ]
    }
   ],
   "source": [
    "%run test_ex2.py run1"
   ]
  },
  {
   "cell_type": "markdown",
   "metadata": {},
   "source": [
    "# Exercicio 3"
   ]
  },
  {
   "cell_type": "markdown",
   "metadata": {},
   "source": [
    "## Parte a)"
   ]
  },
  {
   "cell_type": "code",
   "execution_count": 8,
   "metadata": {},
   "outputs": [
    {
     "name": "stdout",
     "output_type": "stream",
     "text": [
      ",P0,P1,P2,P3,P4,P5,P6,P7,P8,P9\n",
      "P0,,  20,,  12,,,,,,\n",
      "P1,  20,,  18,,,,,  18,,\n",
      "P2,,  18,,  32,,  28,,,  25,\n",
      "P3,  12,,  32,,  18,,,,,\n",
      "P4,,,,  18,,  30,  13,,,\n",
      "P5,,,  28,,  30,,,,  21,  49\n",
      "P6,,,,,  13,,,,,  38\n",
      "P7,,  18,,,,,,,  36,  28\n",
      "P8,,,  25,,,  21,,  36,,  40\n",
      "P9,,,,,,  49,  38,  28,  40,\n"
     ]
    }
   ],
   "source": [
    "%run test_caminho_rapido.py data"
   ]
  },
  {
   "cell_type": "code",
   "execution_count": 9,
   "metadata": {},
   "outputs": [
    {
     "name": "stdout",
     "output_type": "stream",
     "text": [
      "Points,   0,   1,   7,   9\n",
      "Distance,   0,  20,  18,  28\n",
      "Cumulative,   0,  20,  38,  66\n"
     ]
    }
   ],
   "source": [
    "%run test_caminho_rapido.py run"
   ]
  },
  {
   "cell_type": "markdown",
   "metadata": {},
   "source": [
    "## Parte b)"
   ]
  },
  {
   "cell_type": "code",
   "execution_count": 16,
   "metadata": {},
   "outputs": [
    {
     "name": "stdout",
     "output_type": "stream",
     "text": [
      ",P0,P1,P2,P3,P4,P5,P6,P7,P8,P9\n",
      "P0,,,  12,,,,,,,\n",
      "P1,  20,,,  18,,,,,,\n",
      "P2,,,,  32,  18,,,,,\n",
      "P3,,  18,  32,,,  28,,,  25,\n",
      "P4,,,,,,  30,  13,,,\n",
      "P5,,,,  28,  30,,,,  21,  49\n",
      "P6,,,,,,,,,,  38\n",
      "P7,,  18,,,,,,,  36,\n",
      "P8,,,,  25,,  21,,  36,,  40\n",
      "P9,,,,,,  49,,  28,  40,\n"
     ]
    }
   ],
   "source": [
    "%run test_caminho_rapido_b.py data"
   ]
  },
  {
   "cell_type": "code",
   "execution_count": 17,
   "metadata": {},
   "outputs": [
    {
     "name": "stdout",
     "output_type": "stream",
     "text": [
      "Points,   0,   2,   4,   6,   9\n",
      "Distance,   0,  12,  18,  13,  38\n",
      "Cumulative,   0,  12,  30,  43,  81\n"
     ]
    }
   ],
   "source": [
    "%run test_caminho_rapido_b.py run"
   ]
  },
  {
   "cell_type": "code",
   "execution_count": null,
   "metadata": {},
   "outputs": [],
   "source": []
  }
 ],
 "metadata": {
  "kernelspec": {
   "display_name": "Python 3",
   "language": "python",
   "name": "python3"
  },
  "language_info": {
   "codemirror_mode": {
    "name": "ipython",
    "version": 3
   },
   "file_extension": ".py",
   "mimetype": "text/x-python",
   "name": "python",
   "nbconvert_exporter": "python",
   "pygments_lexer": "ipython3",
   "version": "3.8.5"
  }
 },
 "nbformat": 4,
 "nbformat_minor": 4
}
